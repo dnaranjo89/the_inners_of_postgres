{
 "cells": [
  {
   "cell_type": "code",
   "execution_count": 19,
   "id": "a642f1ce-6140-4bbd-a8b9-648ca5fe2c51",
   "metadata": {},
   "outputs": [],
   "source": [
    "import psycopg2\n",
    "\n",
    "def run_query_with_pandas(query):\n",
    "     with warnings.catch_warnings():\n",
    "            warnings.simplefilter('ignore', UserWarning)\n",
    "            df = pd.read_sql_query(sql, connection)\n",
    "            return df\n",
    "        \n",
    "def run_query(query):\n",
    "    cursor = connection.cursor()\n",
    "    cursor.execute(sql)\n",
    "        \n",
    "def analyse(query):\n",
    "    cursor = connection.cursor()\n",
    "    cursor.execute(sql)\n",
    "    records = cursor.fetchall()\n",
    "    for record in records:\n",
    "        print(record[0])"
   ]
  },
  {
   "cell_type": "code",
   "execution_count": 20,
   "id": "fc4a157d-84ca-40a3-88da-1ef0b518a237",
   "metadata": {},
   "outputs": [],
   "source": [
    "connection_details = {\n",
    "    'database': 'test',\n",
    "    'host': '127.0.0.1',\n",
    "    'user': 'david',\n",
    "    'password': 'pass',\n",
    "    'port': 5433,\n",
    "}\n",
    "\n",
    "\n",
    "\n",
    "connection = psycopg2.connect(**connection_details)"
   ]
  },
  {
   "cell_type": "code",
   "execution_count": 29,
   "id": "b3e0b47b-dd3e-4010-87d8-4e7b39fc333a",
   "metadata": {},
   "outputs": [],
   "source": [
    "sql = '''\n",
    "DROP TABLE IF EXISTS indexed;\n",
    "create table indexed\n",
    "(\n",
    "    a int primary key,\n",
    "    b text,\n",
    "    c numeric(3, 2)\n",
    ");\n",
    "create index indexed_b on indexed using btree (b  text_pattern_ops);\n",
    "create index indexed_c on indexed using btree (c);\n",
    "\n",
    "insert into indexed (a, b, c)\n",
    "select i, md5(i::text), sin(i)\n",
    "from generate_series(1, 1000000) as i;\n",
    "'''\n",
    "\n",
    "run_query(sql)"
   ]
  },
  {
   "cell_type": "code",
   "execution_count": 30,
   "id": "fdde5c20-4e5a-4729-a04f-c681a2a32fb7",
   "metadata": {},
   "outputs": [
    {
     "name": "stdout",
     "output_type": "stream",
     "text": [
      "Bitmap Heap Scan on indexed i  (cost=111.17..8264.52 rows=5000 width=36) (actual time=1.301..6.008 rows=3531 loops=1)\n",
      "  Recheck Cond: (c = 0.42)\n",
      "  Heap Blocks: exact=2964\n",
      "  Buffers: shared hit=2980\n",
      "  ->  Bitmap Index Scan on indexed_c  (cost=0.00..109.92 rows=5000 width=0) (actual time=0.923..0.923 rows=3531 loops=1)\n",
      "        Index Cond: (c = 0.42)\n",
      "        Buffers: shared hit=16\n",
      "Planning time: 0.284 ms\n",
      "Execution time: 6.391 ms\n"
     ]
    }
   ],
   "source": [
    "sql = '''\n",
    "explain ( analyze, buffers )\n",
    "select i.a, i.b\n",
    "from indexed as i\n",
    "where i.c = 0.42;\n",
    "'''\n",
    "\n",
    "analyse(sql)"
   ]
  },
  {
   "cell_type": "code",
   "execution_count": null,
   "id": "61fde648-4b76-4317-a848-63c8256ac396",
   "metadata": {},
   "outputs": [],
   "source": []
  }
 ],
 "metadata": {
  "kernelspec": {
   "display_name": "Python 3 (ipykernel)",
   "language": "python",
   "name": "python3"
  },
  "language_info": {
   "codemirror_mode": {
    "name": "ipython",
    "version": 3
   },
   "file_extension": ".py",
   "mimetype": "text/x-python",
   "name": "python",
   "nbconvert_exporter": "python",
   "pygments_lexer": "ipython3",
   "version": "3.8.13"
  }
 },
 "nbformat": 4,
 "nbformat_minor": 5
}
